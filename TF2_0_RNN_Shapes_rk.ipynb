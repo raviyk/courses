{
  "nbformat": 4,
  "nbformat_minor": 0,
  "metadata": {
    "colab": {
      "name": "TF2.0 RNN Shapes_rk.ipynb",
      "provenance": [],
      "authorship_tag": "ABX9TyNheBGrGrQgXuT2aKvcf6fO",
      "include_colab_link": true
    },
    "kernelspec": {
      "name": "python3",
      "display_name": "Python 3"
    }
  },
  "cells": [
    {
      "cell_type": "markdown",
      "metadata": {
        "id": "view-in-github",
        "colab_type": "text"
      },
      "source": [
        "<a href=\"https://colab.research.google.com/github/raviyk/courses/blob/master/TF2_0_RNN_Shapes_rk.ipynb\" target=\"_parent\"><img src=\"https://colab.research.google.com/assets/colab-badge.svg\" alt=\"Open In Colab\"/></a>"
      ]
    },
    {
      "cell_type": "code",
      "metadata": {
        "id": "ZLAveSpT3y6o",
        "colab_type": "code",
        "colab": {}
      },
      "source": [
        "import tensorflow as tf\n",
        "from tensorflow.keras.layers import Input, SimpleRNN, Dense, Flatten\n",
        "from tensorflow.keras.models import Model\n",
        "from tensorflow.keras.optimizers import SGD, Adam\n",
        "\n",
        "import numpy as np\n",
        "import pandas as pd\n",
        "import matplotlib.pyplot as plt"
      ],
      "execution_count": 1,
      "outputs": []
    },
    {
      "cell_type": "code",
      "metadata": {
        "id": "DNOxOvHT4CM3",
        "colab_type": "code",
        "colab": {}
      },
      "source": [
        "# Things you should automatically know and have memorized\n",
        "# N = number of samples\n",
        "# T = sequence length\n",
        "# D = number of input features\n",
        "# M = number of hidden units\n",
        "# K = number of output units"
      ],
      "execution_count": null,
      "outputs": []
    },
    {
      "cell_type": "code",
      "metadata": {
        "id": "kwFqLhcv4JIS",
        "colab_type": "code",
        "colab": {}
      },
      "source": [
        "N = 10\n",
        "T = 10\n",
        "D = 3\n",
        "K = 2\n",
        "X = np.random.randn(N, T, D)"
      ],
      "execution_count": 29,
      "outputs": []
    },
    {
      "cell_type": "code",
      "metadata": {
        "id": "rXO7XYTq4SH_",
        "colab_type": "code",
        "colab": {}
      },
      "source": [
        "# Make an RNN\n",
        "M = 5 # number of hidden units\n",
        "i = Input(shape=(T, D))\n",
        "x = SimpleRNN(M)(i)\n",
        "x = Dense(K)(x)\n",
        "\n",
        "model = Model(i, x)"
      ],
      "execution_count": 30,
      "outputs": []
    },
    {
      "cell_type": "code",
      "metadata": {
        "id": "FpMcW79W7ckl",
        "colab_type": "code",
        "colab": {
          "base_uri": "https://localhost:8080/",
          "height": 252
        },
        "outputId": "8fd827f1-5d81-4ed7-df36-bf9134983476"
      },
      "source": [
        "model.summary()"
      ],
      "execution_count": 31,
      "outputs": [
        {
          "output_type": "stream",
          "text": [
            "Model: \"model_1\"\n",
            "_________________________________________________________________\n",
            "Layer (type)                 Output Shape              Param #   \n",
            "=================================================================\n",
            "input_2 (InputLayer)         [(None, 10, 3)]           0         \n",
            "_________________________________________________________________\n",
            "simple_rnn_1 (SimpleRNN)     (None, 5)                 45        \n",
            "_________________________________________________________________\n",
            "dense_1 (Dense)              (None, 2)                 12        \n",
            "=================================================================\n",
            "Total params: 57\n",
            "Trainable params: 57\n",
            "Non-trainable params: 0\n",
            "_________________________________________________________________\n"
          ],
          "name": "stdout"
        }
      ]
    },
    {
      "cell_type": "code",
      "metadata": {
        "id": "e70gL6H_7g38",
        "colab_type": "code",
        "colab": {
          "base_uri": "https://localhost:8080/",
          "height": 185
        },
        "outputId": "e4425b9c-c47d-4b1b-f93e-86b96678bacc"
      },
      "source": [
        "yhat = model.predict(X)\n",
        "print(yhat)"
      ],
      "execution_count": 32,
      "outputs": [
        {
          "output_type": "stream",
          "text": [
            "[[-0.06036917  0.5253985 ]\n",
            " [-0.55289334  0.21102066]\n",
            " [ 0.20871487  0.02235712]\n",
            " [ 0.8632367   1.5107467 ]\n",
            " [-0.38524365  1.0407368 ]\n",
            " [-0.59184366  0.13528198]\n",
            " [ 0.20841168  0.2425305 ]\n",
            " [ 0.5055069  -0.6856714 ]\n",
            " [-0.7052804   0.5013931 ]\n",
            " [ 0.46590158  1.732465  ]]\n"
          ],
          "name": "stdout"
        }
      ]
    },
    {
      "cell_type": "code",
      "metadata": {
        "id": "8s-zrDlUa0UT",
        "colab_type": "code",
        "colab": {
          "base_uri": "https://localhost:8080/",
          "height": 34
        },
        "outputId": "ce42921a-140d-4a2b-9c74-584c996e7d30"
      },
      "source": [
        "yhat.shape"
      ],
      "execution_count": 35,
      "outputs": [
        {
          "output_type": "execute_result",
          "data": {
            "text/plain": [
              "(10, 2)"
            ]
          },
          "metadata": {
            "tags": []
          },
          "execution_count": 35
        }
      ]
    },
    {
      "cell_type": "code",
      "metadata": {
        "id": "1R9Y7tcY7lpT",
        "colab_type": "code",
        "colab": {
          "base_uri": "https://localhost:8080/",
          "height": 202
        },
        "outputId": "5c269f7a-652e-44a6-f135-254c9d014cf9"
      },
      "source": [
        "model.layers[1].get_weights()"
      ],
      "execution_count": 9,
      "outputs": [
        {
          "output_type": "execute_result",
          "data": {
            "text/plain": [
              "[array([[-0.01336855, -0.38487083,  0.5762729 , -0.04943871, -0.12002355],\n",
              "        [ 0.67370576,  0.14072078,  0.56439596,  0.698921  , -0.6873232 ],\n",
              "        [ 0.7680469 ,  0.2345863 , -0.64606965, -0.5685627 , -0.7568253 ]],\n",
              "       dtype=float32),\n",
              " array([[ 0.07611716, -0.16700752, -0.28418535, -0.7711581 , -0.5393225 ],\n",
              "        [-0.4983827 ,  0.8208639 , -0.14814276, -0.22434092,  0.07430881],\n",
              "        [ 0.43384525,  0.06682523, -0.7309585 , -0.06487413,  0.5184627 ],\n",
              "        [ 0.600302  ,  0.5006427 , -0.00440367,  0.32481098, -0.53242165],\n",
              "        [-0.44411355, -0.20780241, -0.60247207,  0.49525326, -0.38901544]],\n",
              "       dtype=float32),\n",
              " array([0., 0., 0., 0., 0.], dtype=float32)]"
            ]
          },
          "metadata": {
            "tags": []
          },
          "execution_count": 9
        }
      ]
    },
    {
      "cell_type": "code",
      "metadata": {
        "id": "kmzsdU5U7xPf",
        "colab_type": "code",
        "colab": {}
      },
      "source": [
        "a, b, c = model.layers[1].get_weights()"
      ],
      "execution_count": 12,
      "outputs": []
    },
    {
      "cell_type": "code",
      "metadata": {
        "id": "dFowD05I781j",
        "colab_type": "code",
        "colab": {
          "base_uri": "https://localhost:8080/",
          "height": 118
        },
        "outputId": "34a8479e-e434-4fed-e850-1e9ceb714c30"
      },
      "source": [
        "print('a.shape: \\n', a.shape, '\\n b.shape: \\n', b.shape, '\\n c.shape: \\n', c.shape)"
      ],
      "execution_count": 14,
      "outputs": [
        {
          "output_type": "stream",
          "text": [
            "a.shape: \n",
            " (3, 5) \n",
            " b.shape: \n",
            " (5, 5) \n",
            " c.shape: \n",
            " (5,)\n"
          ],
          "name": "stdout"
        }
      ]
    },
    {
      "cell_type": "code",
      "metadata": {
        "id": "FLoYd1Rc8Skj",
        "colab_type": "code",
        "colab": {}
      },
      "source": [
        "Wx, Wh, bh = model.layers[1].get_weights()\n",
        "Wo, bo = model.layers[2].get_weights()"
      ],
      "execution_count": 33,
      "outputs": []
    },
    {
      "cell_type": "code",
      "metadata": {
        "id": "QwYDRBSOfzJW",
        "colab_type": "code",
        "colab": {
          "base_uri": "https://localhost:8080/",
          "height": 34
        },
        "outputId": "bd3ae39b-dc64-4899-f74d-a699b6ae49b5"
      },
      "source": [
        "len(X)"
      ],
      "execution_count": 37,
      "outputs": [
        {
          "output_type": "execute_result",
          "data": {
            "text/plain": [
              "10"
            ]
          },
          "metadata": {
            "tags": []
          },
          "execution_count": 37
        }
      ]
    },
    {
      "cell_type": "code",
      "metadata": {
        "id": "PkIOH1IQ8jCO",
        "colab_type": "code",
        "colab": {
          "base_uri": "https://localhost:8080/",
          "height": 34
        },
        "outputId": "974c1c6a-c563-4269-82be-8df66df0ef57"
      },
      "source": [
        "h_last = np.zeros(M)\n",
        "Yhats = []\n",
        "\n",
        "for i in range(len(X)):\n",
        "  x = X[i]\n",
        "  for t in range(T):\n",
        "    h = np.tanh(x[t].dot(Wx) + h_last.dot(Wh)+bh)\n",
        "    y = h.dot(Wo+bo)\n",
        "    Yhats.append(y)\n",
        "    h_last = h\n",
        "Yhats = np.array(Yhats).reshape()\n",
        "\n",
        "if \n",
        "print(Yhats[:, -N])"
      ],
      "execution_count": 41,
      "outputs": [
        {
          "output_type": "stream",
          "text": [
            "[0.46245728 1.73970668]\n"
          ],
          "name": "stdout"
        }
      ]
    },
    {
      "cell_type": "code",
      "metadata": {
        "id": "J2jkoOWbjTox",
        "colab_type": "code",
        "colab": {
          "base_uri": "https://localhost:8080/",
          "height": 34
        },
        "outputId": "b09261b2-92e7-4688-b768-b47b462711b6"
      },
      "source": [
        "X.shape"
      ],
      "execution_count": 45,
      "outputs": [
        {
          "output_type": "execute_result",
          "data": {
            "text/plain": [
              "(10, 10, 3)"
            ]
          },
          "metadata": {
            "tags": []
          },
          "execution_count": 45
        }
      ]
    },
    {
      "cell_type": "code",
      "metadata": {
        "id": "PCRxWVWba9eq",
        "colab_type": "code",
        "colab": {
          "base_uri": "https://localhost:8080/",
          "height": 34
        },
        "outputId": "b665c4e1-ca7e-420e-8010-d63da02128a5"
      },
      "source": [
        "Yhats.shape"
      ],
      "execution_count": 42,
      "outputs": [
        {
          "output_type": "execute_result",
          "data": {
            "text/plain": [
              "(100, 2)"
            ]
          },
          "metadata": {
            "tags": []
          },
          "execution_count": 42
        }
      ]
    },
    {
      "cell_type": "code",
      "metadata": {
        "id": "hFtngm5N20wk",
        "colab_type": "code",
        "colab": {
          "base_uri": "https://localhost:8080/",
          "height": 34
        },
        "outputId": "c8658eae-e303-4360-aa9f-c908525a4e19"
      },
      "source": [
        "T - 1\n"
      ],
      "execution_count": 57,
      "outputs": [
        {
          "output_type": "execute_result",
          "data": {
            "text/plain": [
              "10"
            ]
          },
          "metadata": {
            "tags": []
          },
          "execution_count": 57
        }
      ]
    },
    {
      "cell_type": "code",
      "metadata": {
        "id": "F9d4S7mG9gA2",
        "colab_type": "code",
        "colab": {
          "base_uri": "https://localhost:8080/",
          "height": 185
        },
        "outputId": "1bba6e97-584a-4929-b87f-7e2792661093"
      },
      "source": [
        "# Bonus exercise: calculate the output for multiple samples at once (N > 1)\n",
        "# [[-0.06036917  0.5253985 ]\n",
        "#  [-0.55289334  0.21102066]\n",
        "#  [ 0.20871487  0.02235712]\n",
        "#  [ 0.8632367   1.5107467 ]\n",
        "#  [-0.38524365  1.0407368 ]\n",
        "#  [-0.59184366  0.13528198]\n",
        "#  [ 0.20841168  0.2425305 ]\n",
        "#  [ 0.5055069  -0.6856714 ]\n",
        "#  [-0.7052804   0.5013931 ]\n",
        "#  [ 0.46590158  1.732465  ]]\n",
        "for i in range(N):\n",
        "    #print(i*(T)+9)\n",
        "    print(Yhats[i*(T)+9, :])"
      ],
      "execution_count": 61,
      "outputs": [
        {
          "output_type": "stream",
          "text": [
            "[-0.06036898  0.5253985 ]\n",
            "[-0.54964029  0.21970251]\n",
            "[0.20891041 0.02262381]\n",
            "[0.86448559 1.50848507]\n",
            "[-0.3853483   1.03921844]\n",
            "[-0.59594581  0.12531999]\n",
            "[0.20913224 0.2414829 ]\n",
            "[ 0.50485592 -0.68380292]\n",
            "[-0.7074417   0.50167465]\n",
            "[0.46245728 1.73970668]\n"
          ],
          "name": "stdout"
        }
      ]
    }
  ]
}